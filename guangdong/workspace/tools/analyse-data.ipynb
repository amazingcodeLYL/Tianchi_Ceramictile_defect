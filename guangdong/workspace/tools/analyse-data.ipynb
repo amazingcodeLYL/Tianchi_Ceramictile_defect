{
 "cells": [
  {
   "cell_type": "code",
   "execution_count": 5,
   "metadata": {},
   "outputs": [
    {
     "data": {
      "text/plain": [
       "{'name': '223_89_t20201125085855802_CAM3.jpg',\n",
       " 'image_height': 3500,\n",
       " 'image_width': 4096,\n",
       " 'category': 4,\n",
       " 'bbox': [1702.79, 2826.53, 1730.79, 2844.53]}"
      ]
     },
     "execution_count": 5,
     "metadata": {},
     "output_type": "execute_result"
    }
   ],
   "source": [
    "import os\n",
    "import numpy as np\n",
    "import json\n",
    "import matplotlib.pyplot as plt\n",
    "import os.path as osp\n",
    "train_root = '/home/xiongpan/dataset/flaw-detection/tile_round1_train_20201231/'\n",
    "json_path = osp.join(train_root,'train_annos.json')\n",
    "annotations_origin = json.load(open(json_path))\n",
    "annotations_origin[0]"
   ]
  },
  {
   "cell_type": "markdown",
   "metadata": {},
   "source": [
    "# 将原始标注转化为coco格式的标注"
   ]
  },
  {
   "cell_type": "code",
   "execution_count": 28,
   "metadata": {},
   "outputs": [
    {
     "name": "stderr",
     "output_type": "stream",
     "text": [
      "100%|██████████| 15230/15230 [00:03<00:00, 4253.66it/s]\n"
     ]
    },
    {
     "data": {
      "image/png": "[encoded data removed]",
      "text/plain": [
       "<Figure size 432x288 with 4 Axes>"
      ]
     },
     "metadata": {
      "needs_background": "light"
     },
     "output_type": "display_data"
    },
    {
     "name": "stdout",
     "output_type": "stream",
     "text": [
      "5388\n",
      "15230\n"
     ]
    }
   ],
   "source": [
    "from tqdm import tqdm\n",
    "coco_content = {}\n",
    "images = []\n",
    "annotations = []\n",
    "categories = [\n",
    "    {\n",
    "        'id':1,\n",
    "        'name':'edge'\n",
    "    },\n",
    "    {\n",
    "        'id':2,\n",
    "        'name':'angle'\n",
    "    },\n",
    "    {\n",
    "        'id':3,\n",
    "        'name':'white_point'\n",
    "    },\n",
    "    {\n",
    "        'id':4,\n",
    "        'name':'shallow_color'\n",
    "    },\n",
    "    {\n",
    "        'id':5,\n",
    "        'name':'deep_color'\n",
    "    },\n",
    "    {\n",
    "        'id':6,\n",
    "        'name':'aperture'\n",
    "    }\n",
    "    \n",
    "]\n",
    "coco_content['categories'] = categories\n",
    "# {\n",
    "#   \"0\": \"背景\",\n",
    "#   \"1\": \"边异常\",\n",
    "#   \"2\": \"角异常\",\n",
    "#   \"3\": \"白色点瑕疵\",\n",
    "#   \"4\": \"浅色块瑕疵\",\n",
    "#   \"5\": \"深色点块瑕疵\",\n",
    "#   \"6\": \"光圈瑕疵\"\n",
    "#  }\n",
    "image_ids = set()\n",
    "class_statics = {}\n",
    "width_statics = []\n",
    "height_statics = []\n",
    "ratio_statics = []\n",
    "for ann_origin in annotations_origin:\n",
    "    image_ids.add(ann_origin['name'])\n",
    "image_ids = list(image_ids)\n",
    "for ann_id,ann_origin in enumerate(tqdm(annotations_origin)):\n",
    "    im = {}\n",
    "    ann = {}\n",
    "    bbox_origin = ann_origin['bbox']\n",
    "    image_id = image_ids.index(ann_origin['name'])\n",
    "    bbox = [bbox_origin[0],bbox_origin[1],bbox_origin[2]-bbox_origin[0],bbox_origin[3]-bbox_origin[1]]\n",
    "    if not ann_origin['category'] in class_statics.keys():\n",
    "        class_statics[ann_origin['category']] = 1\n",
    "    else:\n",
    "        class_statics[ann_origin['category']] +=1\n",
    "    #添加图片相关信息\n",
    "    im['file_name'] = ann_origin['name']\n",
    "    im['width'] = ann_origin['image_width']\n",
    "    im['height'] = ann_origin['image_height']\n",
    "    im['id'] = image_id\n",
    "    if(im not in images):\n",
    "        images.append(im.copy())\n",
    "    #添加标注相关信息\n",
    "    ann['id']  = ann_id\n",
    "    ann['image_id'] = image_id\n",
    "    ann['category_id'] = ann_origin['category']\n",
    "    ann['bbox'] = bbox\n",
    "    ann['area'] = bbox[2]*bbox[3]\n",
    "    annotations.append(ann.copy())\n",
    "    width_statics.append(bbox[2])\n",
    "    height_statics.append(bbox[3])\n",
    "    ratio_statics.append(bbox[2]/bbox[3])\n",
    "plt.subplot(2,2,1)\n",
    "plt.bar(list(class_statics.keys()),list(class_statics.values()))\n",
    "plt.subplot(2,2,2)\n",
    "width_statics.sort()\n",
    "plt.hist(width_statics[:int(0.9*len(width_statics))],10)\n",
    "plt.subplot(2,2,3)\n",
    "height_statics.sort()\n",
    "plt.hist(height_statics[:int(0.9*len(height_statics))],10)\n",
    "plt.subplot(2,2,4)\n",
    "ratio_statics.sort()\n",
    "plt.hist(ratio_statics[:int(0.9*len(ratio_statics))],10)\n",
    "plt.show()\n",
    "coco_content['images'] = images\n",
    "coco_content['annotations'] = annotations\n",
    "save_path = osp.join(train_root,'coco_anno.json')\n",
    "with open(save_path,'w') as f:\n",
    "    json.dump(coco_content,f,indent=6)\n",
    "print(len(images))\n",
    "print(len(annotations))"
   ]
  }
 ],
 "metadata": {
  "kernelspec": {
   "display_name": "Python [conda env:mmdetection] *",
   "language": "python",
   "name": "conda-env-mmdetection-py"
  },
  "language_info": {
   "codemirror_mode": {
    "name": "ipython",
    "version": 3
   },
   "file_extension": ".py",
   "mimetype": "text/x-python",
   "name": "python",
   "nbconvert_exporter": "python",
   "pygments_lexer": "ipython3",
   "version": "3.6.8"
  }
 },
 "nbformat": 4,
 "nbformat_minor": 4
}
